{
 "cells": [
  {
   "cell_type": "code",
   "execution_count": 1,
   "metadata": {},
   "outputs": [],
   "source": [
    "import pandas as pd\n",
    "import numpy as np\n",
    "import scipy\n",
    "import matplotlib.pyplot as plt\n",
    "%matplotlib inline\n",
    "\n",
    "music = pd.DataFrame()\n",
    "music['duration'] = [184, 134, 243, 186, 122, 197, 294, 382, 102, 264, \n",
    "                     205, 110, 307, 110, 397, 153, 190, 192, 210, 403,\n",
    "                     164, 198, 204, 253, 234, 190, 182, 401, 376, 102]\n",
    "music['loudness'] = [18, 34, 43, 36, 22, 9, 29, 22, 10, 24, \n",
    "                     20, 10, 17, 51, 7, 13, 19, 12, 21, 22,\n",
    "                     16, 18, 4, 23, 34, 19, 14, 11, 37, 42]\n",
    "music['bpm'] = [ 105, 90, 78, 75, 120, 110, 80, 100, 105, 60,\n",
    "                  70, 105, 95, 70, 90, 105, 70, 75, 102, 100,\n",
    "                  100, 95, 90, 80, 90, 80, 100, 105, 70, 65]"
   ]
  },
  {
   "cell_type": "code",
   "execution_count": 2,
   "metadata": {},
   "outputs": [
    {
     "name": "stdout",
     "output_type": "stream",
     "text": [
      "Accuracy knn_1: -0.42 (+/- 0.78)\n"
     ]
    }
   ],
   "source": [
    "from sklearn.neighbors import KNeighborsRegressor\n",
    "from sklearn.model_selection import cross_val_score\n",
    "\n",
    "## Try simple model\n",
    "\n",
    "knn_1 = KNeighborsRegressor(n_neighbors=10)\n",
    "X = pd.DataFrame()\n",
    "X['duration'] = music['duration']\n",
    "X['loudness'] = music['loudness']\n",
    "Y = music['bpm']\n",
    "knn_1.fit(X, Y)\n",
    "\n",
    "score_1 = cross_val_score(knn_1, X, Y, cv=5)\n",
    "print('Accuracy knn_1: %0.2f (+/- %0.2f)' % (score_1.mean(), score_1.std() *2))"
   ]
  },
  {
   "cell_type": "code",
   "execution_count": 3,
   "metadata": {},
   "outputs": [
    {
     "name": "stdout",
     "output_type": "stream",
     "text": [
      "Accuracy knn_2: -0.26 (+/- 0.74)\n"
     ]
    }
   ],
   "source": [
    "## Try including weights\n",
    "\n",
    "knn_2 = KNeighborsRegressor(n_neighbors=10, weights='distance')\n",
    "knn_2.fit(X, Y)\n",
    "score_2 = cross_val_score(knn_2, X, Y, cv=5)\n",
    "print('Accuracy knn_2: %0.2f (+/- %0.2f)' % (score_2.mean(), score_2.std() *2))"
   ]
  },
  {
   "cell_type": "code",
   "execution_count": 4,
   "metadata": {},
   "outputs": [
    {
     "name": "stdout",
     "output_type": "stream",
     "text": [
      "Accuracy knn_3: -0.75 (+/- 1.16)\n"
     ]
    }
   ],
   "source": [
    "## Try reducing number of neighbors\n",
    "\n",
    "knn_3 = KNeighborsRegressor(n_neighbors=5)\n",
    "knn_3.fit(X, Y)\n",
    "score_3 = cross_val_score(knn_3, X, Y, cv=5)\n",
    "print('Accuracy knn_3: %0.2f (+/- %0.2f)' % (score_3.mean(), score_3.std()*2))"
   ]
  },
  {
   "cell_type": "code",
   "execution_count": 5,
   "metadata": {},
   "outputs": [
    {
     "data": {
      "text/plain": [
       "array([1, 2, 3, 4])"
      ]
     },
     "execution_count": 5,
     "metadata": {},
     "output_type": "execute_result"
    }
   ],
   "source": [
    "np.arange(1, 5)"
   ]
  },
  {
   "cell_type": "code",
   "execution_count": 6,
   "metadata": {},
   "outputs": [],
   "source": [
    "## Write function to test all neighbors, no weights\n",
    "\n",
    "def KNN_2var_noWeight(min_n, max_n):\n",
    "    for n in np.arange(min_n, max_n+1):\n",
    "        knn_test = KNeighborsRegressor(n_neighbors=n)\n",
    "        score_test = cross_val_score(knn_test, X, Y, cv=5)\n",
    "        print('Accuracy knn_test_%0.0f %0.2f (+/- %0.2f)' % (n, score_test.mean(), score_test.std()*2))\n"
   ]
  },
  {
   "cell_type": "code",
   "execution_count": 7,
   "metadata": {},
   "outputs": [
    {
     "name": "stdout",
     "output_type": "stream",
     "text": [
      "Accuracy knn_test_1 -1.54 (+/- 4.67)\n",
      "Accuracy knn_test_2 -0.52 (+/- 1.10)\n",
      "Accuracy knn_test_3 -0.69 (+/- 1.03)\n",
      "Accuracy knn_test_4 -0.84 (+/- 1.25)\n",
      "Accuracy knn_test_5 -0.75 (+/- 1.16)\n",
      "Accuracy knn_test_6 -0.51 (+/- 0.81)\n",
      "Accuracy knn_test_7 -0.46 (+/- 0.76)\n",
      "Accuracy knn_test_8 -0.49 (+/- 0.79)\n",
      "Accuracy knn_test_9 -0.42 (+/- 0.60)\n",
      "Accuracy knn_test_10 -0.42 (+/- 0.78)\n",
      "Accuracy knn_test_11 -0.38 (+/- 0.73)\n",
      "Accuracy knn_test_12 -0.38 (+/- 0.63)\n",
      "Accuracy knn_test_13 -0.38 (+/- 0.73)\n",
      "Accuracy knn_test_14 -0.34 (+/- 0.75)\n",
      "Accuracy knn_test_15 -0.38 (+/- 0.65)\n",
      "Accuracy knn_test_16 -0.32 (+/- 0.52)\n",
      "Accuracy knn_test_17 -0.31 (+/- 0.42)\n",
      "Accuracy knn_test_18 -0.36 (+/- 0.57)\n",
      "Accuracy knn_test_19 -0.34 (+/- 0.61)\n",
      "Accuracy knn_test_20 -0.32 (+/- 0.59)\n"
     ]
    }
   ],
   "source": [
    "## Results of different n, no weights\n",
    "\n",
    "KNN_2var_noWeight(1, 20)"
   ]
  },
  {
   "cell_type": "code",
   "execution_count": 8,
   "metadata": {},
   "outputs": [],
   "source": [
    "## Function to test different n, weighted by distance\n",
    "\n",
    "def KNN_2var_dist(min_n, max_n):\n",
    "    for n in np.arange(min_n, max_n+1):\n",
    "        knn_test = KNeighborsRegressor(n_neighbors=n, weights='distance')\n",
    "        score_test = cross_val_score(knn_test, X, Y, cv=5)\n",
    "        print('Accuracy knn_test_%0.0f %0.2f (+/- %0.2f)' % (n, score_test.mean(), score_test.std()*2))"
   ]
  },
  {
   "cell_type": "code",
   "execution_count": 9,
   "metadata": {},
   "outputs": [
    {
     "name": "stdout",
     "output_type": "stream",
     "text": [
      "Accuracy knn_test_1 -1.54 (+/- 4.67)\n",
      "Accuracy knn_test_2 -0.61 (+/- 2.20)\n",
      "Accuracy knn_test_3 -0.59 (+/- 1.75)\n",
      "Accuracy knn_test_4 -0.63 (+/- 1.64)\n",
      "Accuracy knn_test_5 -0.51 (+/- 1.24)\n",
      "Accuracy knn_test_6 -0.37 (+/- 0.88)\n",
      "Accuracy knn_test_7 -0.30 (+/- 0.79)\n",
      "Accuracy knn_test_8 -0.30 (+/- 0.80)\n",
      "Accuracy knn_test_9 -0.27 (+/- 0.69)\n",
      "Accuracy knn_test_10 -0.26 (+/- 0.74)\n",
      "Accuracy knn_test_11 -0.26 (+/- 0.75)\n",
      "Accuracy knn_test_12 -0.25 (+/- 0.66)\n",
      "Accuracy knn_test_13 -0.25 (+/- 0.67)\n",
      "Accuracy knn_test_14 -0.23 (+/- 0.67)\n",
      "Accuracy knn_test_15 -0.23 (+/- 0.61)\n",
      "Accuracy knn_test_16 -0.23 (+/- 0.60)\n",
      "Accuracy knn_test_17 -0.22 (+/- 0.57)\n",
      "Accuracy knn_test_18 -0.23 (+/- 0.60)\n",
      "Accuracy knn_test_19 -0.23 (+/- 0.60)\n",
      "Accuracy knn_test_20 -0.23 (+/- 0.60)\n"
     ]
    }
   ],
   "source": [
    "## Results of different n, weighted by distance\n",
    "\n",
    "KNN_2var_dist(1, 20)"
   ]
  },
  {
   "cell_type": "code",
   "execution_count": 10,
   "metadata": {},
   "outputs": [],
   "source": [
    "## Try noramlizing the inputs\n",
    "\n",
    "from scipy import stats\n",
    "\n",
    "X_norm = pd.DataFrame({\n",
    "    'loudness': stats.zscore(music.loudness),\n",
    "    'duration': stats.zscore(music.duration)\n",
    "})\n"
   ]
  },
  {
   "cell_type": "code",
   "execution_count": 11,
   "metadata": {},
   "outputs": [],
   "source": [
    "## Function to test all neighbors, normalized, no weights\n",
    "\n",
    "def KNN_2var_noW_norm(n_min, n_max):\n",
    "    for n in np.arange(n_min, n_max+1):\n",
    "        knn_test = KNeighborsRegressor(n)\n",
    "        score_test = cross_val_score(knn_test, X_norm, Y, cv=5)\n",
    "        print('Accuracy knn_test_%0.0f: %0.2f (+/- %0.2f)' %(n, score_test.mean(), score_test.std()*2))"
   ]
  },
  {
   "cell_type": "code",
   "execution_count": 12,
   "metadata": {},
   "outputs": [
    {
     "name": "stdout",
     "output_type": "stream",
     "text": [
      "Accuracy knn_test_1: -1.73 (+/- 4.45)\n",
      "Accuracy knn_test_2: -1.06 (+/- 2.96)\n",
      "Accuracy knn_test_3: -0.54 (+/- 1.67)\n",
      "Accuracy knn_test_4: -0.24 (+/- 1.13)\n",
      "Accuracy knn_test_5: -0.37 (+/- 1.46)\n",
      "Accuracy knn_test_6: -0.37 (+/- 1.32)\n",
      "Accuracy knn_test_7: -0.43 (+/- 1.66)\n",
      "Accuracy knn_test_8: -0.18 (+/- 0.91)\n",
      "Accuracy knn_test_9: -0.14 (+/- 0.72)\n",
      "Accuracy knn_test_10: -0.11 (+/- 0.50)\n",
      "Accuracy knn_test_11: -0.10 (+/- 0.35)\n",
      "Accuracy knn_test_12: -0.12 (+/- 0.45)\n",
      "Accuracy knn_test_13: -0.15 (+/- 0.47)\n",
      "Accuracy knn_test_14: -0.16 (+/- 0.45)\n",
      "Accuracy knn_test_15: -0.19 (+/- 0.39)\n",
      "Accuracy knn_test_16: -0.20 (+/- 0.37)\n",
      "Accuracy knn_test_17: -0.21 (+/- 0.38)\n",
      "Accuracy knn_test_18: -0.18 (+/- 0.31)\n",
      "Accuracy knn_test_19: -0.21 (+/- 0.26)\n",
      "Accuracy knn_test_20: -0.22 (+/- 0.36)\n"
     ]
    }
   ],
   "source": [
    "## Result of all neighbors, normalized, no weights\n",
    "\n",
    "KNN_2var_noW_norm(1, 20)"
   ]
  },
  {
   "cell_type": "code",
   "execution_count": 13,
   "metadata": {},
   "outputs": [],
   "source": [
    "## Function to try with weighted by distance\n",
    "\n",
    "def KNN_2var_norm(n_min, n_max):\n",
    "    for n in np.arange(n_min, n_max+1):\n",
    "        knn_test = KNeighborsRegressor(n, weights='distance')\n",
    "        score_test = cross_val_score(knn_test, X_norm, Y, cv=5)\n",
    "        print('Accuracy knn_test_%0.0f: %0.2f (+/- %0.2f)' %(n, score_test.mean(), score_test.std()*2))"
   ]
  },
  {
   "cell_type": "code",
   "execution_count": 14,
   "metadata": {},
   "outputs": [
    {
     "name": "stdout",
     "output_type": "stream",
     "text": [
      "Accuracy knn_test_1: -1.73 (+/- 4.45)\n",
      "Accuracy knn_test_2: -1.06 (+/- 3.27)\n",
      "Accuracy knn_test_3: -0.62 (+/- 2.29)\n",
      "Accuracy knn_test_4: -0.44 (+/- 1.91)\n",
      "Accuracy knn_test_5: -0.43 (+/- 1.99)\n",
      "Accuracy knn_test_6: -0.38 (+/- 1.84)\n",
      "Accuracy knn_test_7: -0.37 (+/- 1.86)\n",
      "Accuracy knn_test_8: -0.23 (+/- 1.48)\n",
      "Accuracy knn_test_9: -0.17 (+/- 1.23)\n",
      "Accuracy knn_test_10: -0.11 (+/- 1.05)\n",
      "Accuracy knn_test_11: -0.11 (+/- 0.98)\n",
      "Accuracy knn_test_12: -0.12 (+/- 0.98)\n",
      "Accuracy knn_test_13: -0.10 (+/- 0.91)\n",
      "Accuracy knn_test_14: -0.10 (+/- 0.90)\n",
      "Accuracy knn_test_15: -0.11 (+/- 0.85)\n",
      "Accuracy knn_test_16: -0.11 (+/- 0.80)\n",
      "Accuracy knn_test_17: -0.12 (+/- 0.79)\n",
      "Accuracy knn_test_18: -0.11 (+/- 0.75)\n",
      "Accuracy knn_test_19: -0.13 (+/- 0.71)\n",
      "Accuracy knn_test_20: -0.13 (+/- 0.71)\n"
     ]
    }
   ],
   "source": [
    "## Results of different n, weighted by distance, normalized inputs\n",
    "\n",
    "KNN_2var_norm(1, 20)"
   ]
  },
  {
   "cell_type": "code",
   "execution_count": 15,
   "metadata": {},
   "outputs": [],
   "source": [
    "X_loud = np.array(X['loudness'])[:, np.newaxis]"
   ]
  },
  {
   "cell_type": "code",
   "execution_count": 16,
   "metadata": {},
   "outputs": [],
   "source": [
    "## Try just loudness\n",
    "\n",
    "def KNN_loudness(n_min, n_max):\n",
    "    for n in np.arange(n_min, n_max+1):\n",
    "        knn_test = KNeighborsRegressor(n)\n",
    "        score_test = cross_val_score(knn_test, X_loud, Y, cv=5)\n",
    "        print('Accuracy knn_test_%0.0f: %0.2f (+/- %0.2f)' %(n, score_test.mean(), score_test.std()*2))"
   ]
  },
  {
   "cell_type": "code",
   "execution_count": 17,
   "metadata": {},
   "outputs": [
    {
     "name": "stdout",
     "output_type": "stream",
     "text": [
      "Accuracy knn_test_1: -0.94 (+/- 5.18)\n",
      "Accuracy knn_test_2: -0.40 (+/- 2.22)\n",
      "Accuracy knn_test_3: 0.07 (+/- 0.68)\n",
      "Accuracy knn_test_4: -0.04 (+/- 0.87)\n",
      "Accuracy knn_test_5: -0.28 (+/- 1.20)\n",
      "Accuracy knn_test_6: -0.18 (+/- 0.94)\n",
      "Accuracy knn_test_7: -0.25 (+/- 1.07)\n",
      "Accuracy knn_test_8: -0.25 (+/- 0.90)\n",
      "Accuracy knn_test_9: -0.18 (+/- 0.74)\n",
      "Accuracy knn_test_10: -0.18 (+/- 0.66)\n",
      "Accuracy knn_test_11: -0.09 (+/- 0.42)\n",
      "Accuracy knn_test_12: -0.10 (+/- 0.46)\n",
      "Accuracy knn_test_13: -0.08 (+/- 0.44)\n",
      "Accuracy knn_test_14: -0.06 (+/- 0.47)\n",
      "Accuracy knn_test_15: -0.09 (+/- 0.42)\n",
      "Accuracy knn_test_16: -0.04 (+/- 0.36)\n",
      "Accuracy knn_test_17: -0.05 (+/- 0.33)\n",
      "Accuracy knn_test_18: -0.04 (+/- 0.29)\n",
      "Accuracy knn_test_19: -0.07 (+/- 0.28)\n",
      "Accuracy knn_test_20: -0.12 (+/- 0.24)\n"
     ]
    }
   ],
   "source": [
    "KNN_loudness(1, 20)"
   ]
  },
  {
   "cell_type": "code",
   "execution_count": 18,
   "metadata": {},
   "outputs": [],
   "source": [
    "## Try just loudness and a weighting\n",
    "\n",
    "def KNN_w_loudness(n_min, n_max):\n",
    "    for n in np.arange(n_min, n_max+1):\n",
    "        knn_test = KNeighborsRegressor(n, weights='distance')\n",
    "        score_test = cross_val_score(knn_test, X_loud, Y, cv=5)\n",
    "        print('Accuracy knn_test_%0.0f: %0.2f (+/- %0.2f)' %(n, score_test.mean(), score_test.std()*2))\n"
   ]
  },
  {
   "cell_type": "code",
   "execution_count": 19,
   "metadata": {},
   "outputs": [
    {
     "name": "stdout",
     "output_type": "stream",
     "text": [
      "Accuracy knn_test_1: -0.94 (+/- 5.18)\n",
      "Accuracy knn_test_2: -0.27 (+/- 2.36)\n",
      "Accuracy knn_test_3: 0.14 (+/- 0.84)\n",
      "Accuracy knn_test_4: 0.16 (+/- 0.86)\n",
      "Accuracy knn_test_5: 0.12 (+/- 0.93)\n",
      "Accuracy knn_test_6: 0.17 (+/- 0.82)\n",
      "Accuracy knn_test_7: 0.10 (+/- 0.98)\n",
      "Accuracy knn_test_8: 0.10 (+/- 0.98)\n",
      "Accuracy knn_test_9: 0.12 (+/- 0.93)\n",
      "Accuracy knn_test_10: 0.11 (+/- 0.94)\n",
      "Accuracy knn_test_11: 0.13 (+/- 0.87)\n",
      "Accuracy knn_test_12: 0.13 (+/- 0.83)\n",
      "Accuracy knn_test_13: 0.14 (+/- 0.80)\n",
      "Accuracy knn_test_14: 0.14 (+/- 0.78)\n",
      "Accuracy knn_test_15: 0.13 (+/- 0.79)\n",
      "Accuracy knn_test_16: 0.14 (+/- 0.76)\n",
      "Accuracy knn_test_17: 0.14 (+/- 0.76)\n",
      "Accuracy knn_test_18: 0.14 (+/- 0.74)\n",
      "Accuracy knn_test_19: 0.13 (+/- 0.75)\n",
      "Accuracy knn_test_20: 0.13 (+/- 0.73)\n"
     ]
    }
   ],
   "source": [
    "KNN_w_loudness(1, 20)"
   ]
  },
  {
   "cell_type": "code",
   "execution_count": 20,
   "metadata": {},
   "outputs": [],
   "source": [
    "## Try just duration\n",
    "\n",
    "X_dur = np.array(X.duration)[:, np.newaxis]\n",
    "\n",
    "def KNN_duration(n_min, n_max):\n",
    "    for n in np.arange(n_min, n_max+1):\n",
    "        knn_test = KNeighborsRegressor(n)\n",
    "        score_test = cross_val_score(knn_test, X_dur, Y, cv=5)\n",
    "        print('Accuracy knn_test_%0.0f: %0.2f (+/- %0.2f)' %(n, score_test.mean(), score_test.std()*2))"
   ]
  },
  {
   "cell_type": "code",
   "execution_count": 21,
   "metadata": {},
   "outputs": [
    {
     "name": "stdout",
     "output_type": "stream",
     "text": [
      "Accuracy knn_test_1: -1.36 (+/- 2.87)\n",
      "Accuracy knn_test_2: -0.78 (+/- 1.18)\n",
      "Accuracy knn_test_3: -0.34 (+/- 0.27)\n",
      "Accuracy knn_test_4: -0.76 (+/- 0.70)\n",
      "Accuracy knn_test_5: -0.70 (+/- 1.02)\n",
      "Accuracy knn_test_6: -0.76 (+/- 1.38)\n",
      "Accuracy knn_test_7: -0.66 (+/- 1.33)\n",
      "Accuracy knn_test_8: -0.53 (+/- 0.94)\n",
      "Accuracy knn_test_9: -0.41 (+/- 0.63)\n",
      "Accuracy knn_test_10: -0.44 (+/- 0.81)\n",
      "Accuracy knn_test_11: -0.40 (+/- 0.73)\n",
      "Accuracy knn_test_12: -0.39 (+/- 0.76)\n",
      "Accuracy knn_test_13: -0.42 (+/- 0.83)\n",
      "Accuracy knn_test_14: -0.36 (+/- 0.73)\n",
      "Accuracy knn_test_15: -0.39 (+/- 0.64)\n",
      "Accuracy knn_test_16: -0.35 (+/- 0.51)\n",
      "Accuracy knn_test_17: -0.33 (+/- 0.48)\n",
      "Accuracy knn_test_18: -0.38 (+/- 0.65)\n",
      "Accuracy knn_test_19: -0.37 (+/- 0.76)\n",
      "Accuracy knn_test_20: -0.31 (+/- 0.56)\n"
     ]
    }
   ],
   "source": [
    "KNN_duration(1, 20)"
   ]
  },
  {
   "cell_type": "code",
   "execution_count": 22,
   "metadata": {},
   "outputs": [],
   "source": [
    "## Try just duration and weights\n",
    "\n",
    "def KNN_w_duration(n_min, n_max):\n",
    "    for n in np.arange(n_min, n_max+1):\n",
    "        knn_test = KNeighborsRegressor(n, weights='distance')\n",
    "        score_test = cross_val_score(knn_test, X_dur, Y, cv=5)\n",
    "        print('Accuracy knn_test_%0.0f: %0.2f (+/- %0.2f)' %(n, score_test.mean(), score_test.std()*2))"
   ]
  },
  {
   "cell_type": "code",
   "execution_count": 23,
   "metadata": {},
   "outputs": [
    {
     "name": "stdout",
     "output_type": "stream",
     "text": [
      "Accuracy knn_test_1: -1.36 (+/- 2.87)\n",
      "Accuracy knn_test_2: -1.01 (+/- 0.99)\n",
      "Accuracy knn_test_3: -0.88 (+/- 0.98)\n",
      "Accuracy knn_test_4: -0.94 (+/- 0.86)\n",
      "Accuracy knn_test_5: -0.94 (+/- 0.90)\n",
      "Accuracy knn_test_6: -0.94 (+/- 0.93)\n",
      "Accuracy knn_test_7: -0.89 (+/- 0.90)\n",
      "Accuracy knn_test_8: -0.82 (+/- 0.81)\n",
      "Accuracy knn_test_9: -0.78 (+/- 0.79)\n",
      "Accuracy knn_test_10: -0.78 (+/- 0.77)\n",
      "Accuracy knn_test_11: -0.78 (+/- 0.77)\n",
      "Accuracy knn_test_12: -0.76 (+/- 0.75)\n",
      "Accuracy knn_test_13: -0.76 (+/- 0.74)\n",
      "Accuracy knn_test_14: -0.75 (+/- 0.76)\n",
      "Accuracy knn_test_15: -0.75 (+/- 0.76)\n",
      "Accuracy knn_test_16: -0.74 (+/- 0.76)\n",
      "Accuracy knn_test_17: -0.74 (+/- 0.75)\n",
      "Accuracy knn_test_18: -0.75 (+/- 0.74)\n",
      "Accuracy knn_test_19: -0.76 (+/- 0.74)\n",
      "Accuracy knn_test_20: -0.75 (+/- 0.75)\n"
     ]
    }
   ],
   "source": [
    "KNN_w_duration(1, 20)"
   ]
  },
  {
   "cell_type": "code",
   "execution_count": 24,
   "metadata": {},
   "outputs": [],
   "source": [
    "## These are all terrible!"
   ]
  },
  {
   "cell_type": "code",
   "execution_count": null,
   "metadata": {},
   "outputs": [],
   "source": []
  }
 ],
 "metadata": {
  "kernelspec": {
   "display_name": "Python 3",
   "language": "python",
   "name": "python3"
  },
  "language_info": {
   "codemirror_mode": {
    "name": "ipython",
    "version": 3
   },
   "file_extension": ".py",
   "mimetype": "text/x-python",
   "name": "python",
   "nbconvert_exporter": "python",
   "pygments_lexer": "ipython3",
   "version": "3.7.2"
  }
 },
 "nbformat": 4,
 "nbformat_minor": 2
}
