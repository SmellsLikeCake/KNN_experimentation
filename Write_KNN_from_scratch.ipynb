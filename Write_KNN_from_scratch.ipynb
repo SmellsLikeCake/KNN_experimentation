{
 "cells": [
  {
   "cell_type": "code",
   "execution_count": 1,
   "metadata": {},
   "outputs": [],
   "source": [
    "import numpy as np\n",
    "import pandas as pd\n",
    "import matplotlib.pyplot as plt\n",
    "import scipy\n",
    "%matplotlib inline"
   ]
  },
  {
   "cell_type": "code",
   "execution_count": 2,
   "metadata": {},
   "outputs": [],
   "source": [
    "def KNN_predictor(x_data, y_data, z_data, n, x_test, y_test):\n",
    "    df = pd.DataFrame()\n",
    "    df['x_data'] = x_data\n",
    "    df['y_data'] = y_data\n",
    "    df['z_data'] = z_data\n",
    "    df['test_distance'] = np.sqrt((x_data - x_test)**2 + (y_data - y_test)**2)\n",
    "    df = df.sort_values('test_distance').reset_index().drop('index', axis=1)\n",
    "    df_knn = df.loc[:(n-1), ]\n",
    "    if (df_knn.z_data.value_counts().min() == df_knn.z_data.value_counts().max()):\n",
    "        return(print(\"Equal probability using this number of neighbors. Try an odd value for n.\"))\n",
    "    else:\n",
    "        return(\n",
    "            print('Result: ', df_knn.z_data.value_counts().index[0]),\n",
    "            print('Probability: ', [df_knn.z_data.value_counts().max() / n, \n",
    "                                   df_knn.z_data.value_counts().min() / n])\n",
    "        )"
   ]
  },
  {
   "cell_type": "code",
   "execution_count": 3,
   "metadata": {},
   "outputs": [],
   "source": [
    "music = pd.DataFrame()\n",
    "\n",
    "# Some data to play with.\n",
    "music['duration'] = [184, 134, 243, 186, 122, 197, 294, 382, 102, 264, \n",
    "                     205, 110, 307, 110, 397, 153, 190, 192, 210, 403,\n",
    "                     164, 198, 204, 253, 234, 190, 182, 401, 376, 102]\n",
    "music['loudness'] = [18, 34, 43, 36, 22, 9, 29, 22, 10, 24, \n",
    "                     20, 10, 17, 51, 7, 13, 19, 12, 21, 22,\n",
    "                     16, 18, 4, 23, 34, 19, 14, 11, 37, 42]\n",
    "\n",
    "# We know whether the songs in our training data are jazz or not.\n",
    "music['jazz'] = [ 1, 0, 0, 0, 1, 1, 0, 1, 1, 0,\n",
    "                  0, 1, 1, 0, 1, 1, 0, 1, 1, 1,\n",
    "                  1, 1, 1, 1, 0, 0, 1, 1, 0, 0]"
   ]
  },
  {
   "cell_type": "code",
   "execution_count": 5,
   "metadata": {},
   "outputs": [
    {
     "name": "stdout",
     "output_type": "stream",
     "text": [
      "Result:  1\n",
      "Probability:  [0.6, 0.4]\n"
     ]
    },
    {
     "data": {
      "text/plain": [
       "(None, None)"
      ]
     },
     "execution_count": 5,
     "metadata": {},
     "output_type": "execute_result"
    }
   ],
   "source": [
    "KNN_predictor(music['duration'], music['loudness'], music['jazz'], 5, 190, 24)"
   ]
  },
  {
   "cell_type": "code",
   "execution_count": null,
   "metadata": {},
   "outputs": [],
   "source": []
  }
 ],
 "metadata": {
  "kernelspec": {
   "display_name": "Python 3",
   "language": "python",
   "name": "python3"
  },
  "language_info": {
   "codemirror_mode": {
    "name": "ipython",
    "version": 3
   },
   "file_extension": ".py",
   "mimetype": "text/x-python",
   "name": "python",
   "nbconvert_exporter": "python",
   "pygments_lexer": "ipython3",
   "version": "3.7.2"
  }
 },
 "nbformat": 4,
 "nbformat_minor": 2
}
